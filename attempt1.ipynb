{
 "cells": [
  {
   "cell_type": "code",
   "execution_count": 1,
   "metadata": {},
   "outputs": [
    {
     "name": "stderr",
     "output_type": "stream",
     "text": [
      "24/01/28 15:17:11 WARN Utils: Your hostname, debianlab resolves to a loopback address: 127.0.1.1; using 192.168.1.155 instead (on interface enp2s0)\n",
      "24/01/28 15:17:11 WARN Utils: Set SPARK_LOCAL_IP if you need to bind to another address\n",
      "Setting default log level to \"WARN\".\n",
      "To adjust logging level use sc.setLogLevel(newLevel). For SparkR, use setLogLevel(newLevel).\n",
      "24/01/28 15:17:14 WARN NativeCodeLoader: Unable to load native-hadoop library for your platform... using builtin-java classes where applicable\n"
     ]
    }
   ],
   "source": [
    "from pyspark.sql import SparkSession\n",
    "\n",
    "# Create a Spark session\n",
    "spark = SparkSession.builder.appName(\"kaggle_eegs\").getOrCreate()\n"
   ]
  },
  {
   "cell_type": "code",
   "execution_count": 2,
   "metadata": {},
   "outputs": [
    {
     "name": "stderr",
     "output_type": "stream",
     "text": [
      "                                                                                \r"
     ]
    },
    {
     "name": "stdout",
     "output_type": "stream",
     "text": [
      "+----------+----------+------------------------+--------------+------------------+--------------------------------+----------+----------+----------------+------------+--------+--------+---------+---------+----------+\n",
      "|    eeg_id|eeg_sub_id|eeg_label_offset_seconds|spectrogram_id|spectrogram_sub_id|spectrogram_label_offset_seconds|  label_id|patient_id|expert_consensus|seizure_vote|lpd_vote|gpd_vote|lrda_vote|grda_vote|other_vote|\n",
      "+----------+----------+------------------------+--------------+------------------+--------------------------------+----------+----------+----------------+------------+--------+--------+---------+---------+----------+\n",
      "|1628180742|         0|                     0.0|        353733|                 0|                             0.0| 127492639|     42516|         Seizure|           3|       0|       0|        0|        0|         0|\n",
      "|1628180742|         1|                     6.0|        353733|                 1|                             6.0|3887563113|     42516|         Seizure|           3|       0|       0|        0|        0|         0|\n",
      "|1628180742|         2|                     8.0|        353733|                 2|                             8.0|1142670488|     42516|         Seizure|           3|       0|       0|        0|        0|         0|\n",
      "|1628180742|         3|                    18.0|        353733|                 3|                            18.0|2718991173|     42516|         Seizure|           3|       0|       0|        0|        0|         0|\n",
      "|1628180742|         4|                    24.0|        353733|                 4|                            24.0|3080632009|     42516|         Seizure|           3|       0|       0|        0|        0|         0|\n",
      "|1628180742|         5|                    26.0|        353733|                 5|                            26.0|2413091605|     42516|         Seizure|           3|       0|       0|        0|        0|         0|\n",
      "|1628180742|         6|                    30.0|        353733|                 6|                            30.0| 364593930|     42516|         Seizure|           3|       0|       0|        0|        0|         0|\n",
      "|1628180742|         7|                    36.0|        353733|                 7|                            36.0|3811483573|     42516|         Seizure|           3|       0|       0|        0|        0|         0|\n",
      "|1628180742|         8|                    40.0|        353733|                 8|                            40.0|3388718494|     42516|         Seizure|           3|       0|       0|        0|        0|         0|\n",
      "|2277392603|         0|                     0.0|        924234|                 0|                             0.0|1978807404|     30539|             GPD|           0|       0|       5|        0|        1|         5|\n",
      "+----------+----------+------------------------+--------------+------------------+--------------------------------+----------+----------+----------------+------------+--------+--------+---------+---------+----------+\n",
      "only showing top 10 rows\n",
      "\n"
     ]
    }
   ],
   "source": [
    "file_path = '/home/harraz/my_tensorflow/venv/kaggle/eegs/kaggle/eegs_train/train.csv'\n",
    "\n",
    "# Read labels CSV file into a DataFrame\n",
    "train_y = spark.read.csv(file_path, header=True, inferSchema=True)\n",
    "\n",
    "# Show the DataFrame\n",
    "train_y.show(10)\n"
   ]
  },
  {
   "cell_type": "code",
   "execution_count": 3,
   "metadata": {},
   "outputs": [
    {
     "name": "stderr",
     "output_type": "stream",
     "text": [
      "                                                                                \r"
     ]
    },
    {
     "name": "stdout",
     "output_type": "stream",
     "text": [
      "+------+------+------+------+------+------+------+------+-----+-----+-----+------+------+------+------+------+------+-----+------+-----+\n",
      "|   Fp1|    F3|    C3|    P3|    F7|    T3|    T5|    O1|   Fz|   Cz|   Pz|   Fp2|    F4|    C4|    P4|    F8|    T4|   T6|    O2|  EKG|\n",
      "+------+------+------+------+------+------+------+------+-----+-----+-----+------+------+------+------+------+------+-----+------+-----+\n",
      "|-42.11|-29.85|-11.75|   0.9|-46.79|-58.51|-46.76| -3.15| 1.94|44.35|24.83|-33.15|-61.54|-16.39| 16.18|-56.23|-37.86| -6.5| -6.31|-5.63|\n",
      "|-37.88|-26.68|-12.61| -1.25|-43.48|-58.28|-49.03| -5.92| 3.91|44.44|21.42|-28.72|-55.35|-15.21| 14.24| -49.8| -39.5| -7.0| -6.44|-1.36|\n",
      "|-44.89|-28.87| -13.7| -4.53|-44.32|-60.15|-51.88|-10.11|  1.0|45.67|18.26|-33.62|-51.27|-15.53| 12.69|-46.76|-33.41|-7.38| -7.63| 1.18|\n",
      "|-30.95|-21.98|-10.18| -4.15| -38.4|-57.27|-50.53|-11.32| 7.41|48.78|18.54|-19.05|-40.24|-12.39| 13.28|-37.09|-27.82|-8.45|  -8.8|-4.78|\n",
      "|-16.65|-11.68| -4.09| -0.36|-30.12|-50.98| -46.5| -7.77|15.96|52.34|20.49| -4.53| -30.0| -8.44| 14.96|-27.79|-29.43|-6.02| -7.57|-1.93|\n",
      "|-23.39|-10.69| -3.21| -1.17|-27.25|-47.96|-45.55| -8.29| 13.1|50.96|17.43|-10.97|-27.73|-11.03| 13.09|-25.88|-26.73|-6.88| -7.02| 1.26|\n",
      "|-20.53| -9.64|  -3.7| -2.14|-24.92|-46.61|-46.63|-10.55|13.66|48.36|12.69| -6.25|-23.31|-15.47|  8.59|-23.86| -20.1|-8.28| -8.98|-4.96|\n",
      "| -6.26| -4.48| -3.28| -4.23|-19.46|-42.29|-45.09|-12.51|17.14|41.63| 7.25|  8.59|-19.97|-19.81|  2.96| -17.3|-23.97|-8.34| -9.98|-6.85|\n",
      "| -12.1| -5.73| -5.78| -7.66|-18.56|-39.31|-43.71| -13.2|13.12| 33.2|-0.92|  2.86|-23.54|-28.13|  -4.1|-16.62|-26.99|-8.24| -9.45|-0.15|\n",
      "|-19.62| -8.75|-10.39|-11.94|-19.34|-38.54|-44.76|-16.75|  6.4|24.09| -9.2| -2.21|-27.06|-38.17|-11.29|-17.45|-22.17|-9.89|-11.85|-4.24|\n",
      "+------+------+------+------+------+------+------+------+-----+-----+-----+------+------+------+------+------+------+-----+------+-----+\n",
      "only showing top 10 rows\n",
      "\n"
     ]
    }
   ],
   "source": [
    "file_path = '/home/harraz/my_tensorflow/venv/kaggle/eegs/kaggle/eegs_train/'\n",
    "\n",
    "# Read CSV file into a DataFrame\n",
    "train_X = spark.read.parquet(file_path, inferSchema=False)\n",
    "\n",
    "# Show the DataFrame\n",
    "train_X.show(10)"
   ]
  },
  {
   "cell_type": "code",
   "execution_count": 5,
   "metadata": {},
   "outputs": [
    {
     "name": "stdout",
     "output_type": "stream",
     "text": [
      "+----------------+\n",
      "|expert_consensus|\n",
      "+----------------+\n",
      "|               1|\n",
      "|               1|\n",
      "|               1|\n",
      "|               1|\n",
      "|               1|\n",
      "|               1|\n",
      "|               1|\n",
      "|               1|\n",
      "|               1|\n",
      "|               0|\n",
      "+----------------+\n",
      "only showing top 10 rows\n",
      "\n"
     ]
    }
   ],
   "source": [
    "from pyspark.sql.functions import when\n",
    "train_Labels = train_y.withColumn('expert_consensus', when(train_y['expert_consensus'] == 'Seizure', 1).otherwise(0))\n",
    "train_Labels.select(train_Labels.expert_consensus).show(10)\n"
   ]
  },
  {
   "cell_type": "code",
   "execution_count": null,
   "metadata": {},
   "outputs": [],
   "source": []
  }
 ],
 "metadata": {
  "kernelspec": {
   "display_name": "venv",
   "language": "python",
   "name": "python3"
  },
  "language_info": {
   "codemirror_mode": {
    "name": "ipython",
    "version": 3
   },
   "file_extension": ".py",
   "mimetype": "text/x-python",
   "name": "python",
   "nbconvert_exporter": "python",
   "pygments_lexer": "ipython3",
   "version": "3.11.2"
  }
 },
 "nbformat": 4,
 "nbformat_minor": 2
}
